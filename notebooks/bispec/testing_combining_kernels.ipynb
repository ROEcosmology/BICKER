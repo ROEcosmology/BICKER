{
 "cells": [
  {
   "cell_type": "code",
   "execution_count": 1,
   "metadata": {},
   "outputs": [],
   "source": [
    "import numpy as np\n",
    "import bicker.helper as helper_funcs\n",
    "\n",
    "path_to_repo = \"/Users/jamie/Desktop/GitHubProjects/BICKER/\""
   ]
  },
  {
   "cell_type": "code",
   "execution_count": 2,
   "metadata": {},
   "outputs": [
    {
     "name": "stdout",
     "output_type": "stream",
     "text": [
      "['b1_f_f', 'b1_b1_f_f', 'b1_b1_b2', 'b2_f_f', 'b1_b1_b1', 'b1_b1_b1_f', 'b1_b1_f', 'b1_f_f_f', 'f_f_f', 'f_f_f_f', 'b1_b2_f']\n",
      "['bG2_f_f', 'b1_b1_bG2', 'b1_bG2_f']\n"
     ]
    }
   ],
   "source": [
    "kernels = []\n",
    "for g in [5,6]:\n",
    "    ki = []\n",
    "    print(helper_funcs.group_info(g, file_list=True))\n",
    "    for file in helper_funcs.group_info(g, file_list=True):\n",
    "            ki.append(np.load(path_to_repo+\"data/kernels/full_{0}.npy\".format(file)))\n",
    "    kernels.append(np.stack(ki))"
   ]
  },
  {
   "cell_type": "code",
   "execution_count": 3,
   "metadata": {},
   "outputs": [],
   "source": [
    "f = np.repeat(0.98, 10000)\n",
    "b1 = np.random.rand(10000)\n",
    "b2 = np.random.rand(10000)\n",
    "bG2 = np.random.randn(10000)"
   ]
  },
  {
   "cell_type": "code",
   "execution_count": 4,
   "metadata": {},
   "outputs": [
    {
     "data": {
      "text/plain": [
       "(10000, 79)"
      ]
     },
     "execution_count": 4,
     "metadata": {},
     "output_type": "execute_result"
    }
   ],
   "source": [
    "helper_funcs.combine_kernels(kernels, f, b1=b1, b2=b2, bG2=bG2, groups=[5,6]).shape"
   ]
  },
  {
   "cell_type": "code",
   "execution_count": 5,
   "metadata": {},
   "outputs": [
    {
     "name": "stdout",
     "output_type": "stream",
     "text": [
      "25.1 ms ± 382 µs per loop (mean ± std. dev. of 7 runs, 10 loops each)\n"
     ]
    }
   ],
   "source": [
    "%timeit helper_funcs.combine_kernels(kernels, f, b1=b1, b2=b2, bG2=bG2, groups=[5,6])"
   ]
  }
 ],
 "metadata": {
  "kernelspec": {
   "display_name": "matryoshka",
   "language": "python",
   "name": "matryoshka"
  },
  "language_info": {
   "codemirror_mode": {
    "name": "ipython",
    "version": 3
   },
   "file_extension": ".py",
   "mimetype": "text/x-python",
   "name": "python",
   "nbconvert_exporter": "python",
   "pygments_lexer": "ipython3",
   "version": "3.7.11"
  }
 },
 "nbformat": 4,
 "nbformat_minor": 4
}
